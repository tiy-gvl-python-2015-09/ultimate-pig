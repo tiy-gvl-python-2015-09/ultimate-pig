{
 "cells": [
  {
   "cell_type": "markdown",
   "metadata": {},
   "source": [
    "# Ultimate Pig -- W3D3 Homework"
   ]
  },
  {
   "cell_type": "code",
   "execution_count": 1,
   "metadata": {
    "collapsed": true
   },
   "outputs": [],
   "source": [
    "import random\n",
    "import matplotlib.pyplot as plt"
   ]
  },
  {
   "cell_type": "code",
   "execution_count": 2,
   "metadata": {
    "collapsed": true
   },
   "outputs": [],
   "source": [
    "%matplotlib inline"
   ]
  },
  {
   "cell_type": "code",
   "execution_count": 3,
   "metadata": {
    "collapsed": false
   },
   "outputs": [],
   "source": [
    "class Dice:\n",
    "\n",
    "    def dice_roll(self):\n",
    "        roll = random.randint(1, 6)\n",
    "        return roll\n",
    "    \n",
    "    \n",
    "class Game:\n",
    "\n",
    "    def __init__(self):\n",
    "        self.computer1 = Basic_Computer_Player()\n",
    "        self.computer2 = Basic_Computer_Player()\n",
    "\n",
    "    def play_round(self):\n",
    "        x = self.computer1.computer_turn()\n",
    "        y = self.computer2.computer_turn()\n",
    "        computer1_score = x\n",
    "        computer2_score = y\n",
    "        round_scores = [computer1_score, computer2_score]\n",
    "        #print(\"1\", computer1_score)\n",
    "        #print(\"2\", computer2_score)\n",
    "        return round_scores\n",
    "        \n",
    "    def play_game(self):\n",
    "        computer1_score = 0\n",
    "        computer2_score = 0\n",
    "        rounds_counter = 0\n",
    "        while rounds_counter < 7:\n",
    "            w = self.play_round()\n",
    "            rounds_counter += 1\n",
    "            computer1_score += w[0]\n",
    "            computer2_score += w[1]\n",
    "        #print(computer1_score, computer2_score)\n",
    "        if computer1_score > computer2_score:\n",
    "            return 1\n",
    "        elif computer1_score < computer2_score:\n",
    "            return -1\n",
    "        else:\n",
    "            return 0\n",
    "        \n",
    "    def play_n_games(self, num=3):\n",
    "        return [self.play_game() for _ in range(num)]\n",
    "    \n",
    "    def run_n_trials(self, trials=4, num=3):\n",
    "        return [self.play_n_games(num) for _ in range(trials)]\n",
    "    \n",
    "    \n",
    "class Basic_Computer_Player:\n",
    "\n",
    "    def __init__(self):\n",
    "        pass\n",
    "\n",
    "    def computer_roll(self):\n",
    "        computer_dice = Dice()\n",
    "        self.computer_curve = computer_dice.dice_roll()\n",
    "        return self.computer_curve\n",
    "\n",
    "    def hold_action(self):\n",
    "        computer_choice = 'h'\n",
    "        return computer_choice\n",
    "\n",
    "    def computer_turn(self):\n",
    "        computer_turn_bank = 0\n",
    "        computer_to_roll = True\n",
    "        while computer_to_roll == True:\n",
    "            computer_roll_num = self.computer_roll()\n",
    "            if computer_roll_num == 1:\n",
    "                computer_turn_bank = 0\n",
    "                computer_to_roll = False\n",
    "                return computer_turn_bank\n",
    "            else:\n",
    "                computer_turn_bank += computer_roll_num\n",
    "                computer_decision = self.hold_action()\n",
    "                if computer_decision == 'h':\n",
    "                    computer_to_roll = False\n",
    "                    return computer_turn_bank\n",
    "                else:\n",
    "                    computer_to_roll = True"
   ]
  },
  {
   "cell_type": "code",
   "execution_count": 4,
   "metadata": {
    "collapsed": false
   },
   "outputs": [],
   "source": [
    "class Roll_Bot(Basic_Computer_Player):\n",
    "\n",
    "    def computer_turn(self):\n",
    "        computer_turn_bank = 0\n",
    "        computer_to_roll = True\n",
    "        roll_number = 0\n",
    "        while computer_to_roll == True:\n",
    "            computer_roll_num = self.computer_roll()\n",
    "            roll_number += 1\n",
    "            if computer_roll_num == 1:\n",
    "                computer_turn_bank = 0\n",
    "                computer_to_roll = False\n",
    "                return computer_turn_bank\n",
    "            else:\n",
    "                computer_turn_bank += computer_roll_num\n",
    "                if roll_number == 4:\n",
    "                    computer_decision = \"h\"\n",
    "                else:\n",
    "                    computer_decision = \"r\"\n",
    "                if computer_decision == 'h':\n",
    "                    computer_to_roll = False\n",
    "                    return computer_turn_bank\n",
    "                else:\n",
    "                    computer_to_roll = True"
   ]
  },
  {
   "cell_type": "code",
   "execution_count": 5,
   "metadata": {
    "collapsed": true
   },
   "outputs": [],
   "source": [
    "def win_count(lst):\n",
    "    p1_wins = 0\n",
    "    p2_wins = 0\n",
    "    ties = 0\n",
    "    for x in lst:\n",
    "        for y in x:\n",
    "            if y == 1:\n",
    "                p1_wins +=1\n",
    "            elif y == -1:\n",
    "                p2_wins += 1\n",
    "            else:\n",
    "                ties += 1\n",
    "    return [p1_wins, p2_wins, ties]"
   ]
  },
  {
   "cell_type": "code",
   "execution_count": 6,
   "metadata": {
    "collapsed": false
   },
   "outputs": [],
   "source": [
    "game = Game()"
   ]
  },
  {
   "cell_type": "code",
   "execution_count": 7,
   "metadata": {
    "collapsed": false
   },
   "outputs": [],
   "source": [
    "trial_results = game.run_n_trials(1000, 100)\n",
    "win_results = win_count(trial_results)"
   ]
  },
  {
   "cell_type": "code",
   "execution_count": 12,
   "metadata": {
    "collapsed": false
   },
   "outputs": [
    {
     "data": {
      "image/png": "[encoded data removed]",
      "text/plain": [
       "<matplotlib.figure.Figure at 0x1106009b0>"
      ]
     },
     "metadata": {},
     "output_type": "display_data"
    },
    {
     "data": {
      "image/png": "[encoded data removed]",
      "text/plain": [
       "<matplotlib.figure.Figure at 0x1106009b0>"
      ]
     },
     "metadata": {},
     "output_type": "display_data"
    },
    {
     "data": {
      "image/png": "[encoded data removed]",
      "text/plain": [
       "<matplotlib.figure.Figure at 0x1106009b0>"
      ]
     },
     "metadata": {},
     "output_type": "display_data"
    }
   ],
   "source": [
    "plt.bar(range(len(win_results)), win_results, align='center')\n",
    "plt.show()"
   ]
  },
  {
   "cell_type": "markdown",
   "metadata": {
    "collapsed": true
   },
   "source": [
    "This is a test of my Basic_Computer_Player class, where both players in the game are from this class.  The bot here only rolls one time, then holds.  The results show, through 1,000 trials of 100 games each, that no player has any real advantage.  This is not surprising since the result is basically dependent on the luck of the first roll."
   ]
  },
  {
   "cell_type": "code",
   "execution_count": null,
   "metadata": {
    "collapsed": false
   },
   "outputs": [],
   "source": [
    "game.play_game()"
   ]
  },
  {
   "cell_type": "code",
   "execution_count": null,
   "metadata": {
    "collapsed": false
   },
   "outputs": [],
   "source": [
    "smart_one_reuslt = game.run_n_trials(1000, 100)\n",
    "smart_one_wins = win_count(smart_one_reuslt)"
   ]
  },
  {
   "cell_type": "code",
   "execution_count": null,
   "metadata": {
    "collapsed": false
   },
   "outputs": [],
   "source": [
    "x1 = [\"Basic Bot Wins\", \"Roll Bot Wins\", \"Ties\"]\n",
    "plt.bar(range(len(smart_one_wins)), smart_one_wins, align='center')\n",
    "plt.xticks(range(len(smart_one_wins)), x1)\n",
    "plt.title(\"Basic Computer Player Test Results\")\n",
    "plt.ylabel(\"Occurances\")\n",
    "plt.show()"
   ]
  },
  {
   "cell_type": "code",
   "execution_count": null,
   "metadata": {
    "collapsed": true
   },
   "outputs": [],
   "source": []
  }
 ],
 "metadata": {
  "kernelspec": {
   "display_name": "Python 3",
   "language": "python",
   "name": "python3"
  },
  "language_info": {
   "codemirror_mode": {
    "name": "ipython",
    "version": 3
   },
   "file_extension": ".py",
   "mimetype": "text/x-python",
   "name": "python",
   "nbconvert_exporter": "python",
   "pygments_lexer": "ipython3",
   "version": "3.5.0"
  }
 },
 "nbformat": 4,
 "nbformat_minor": 0
}
