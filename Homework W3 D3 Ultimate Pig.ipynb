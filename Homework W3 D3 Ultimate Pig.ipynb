{
 "cells": [
  {
   "cell_type": "code",
   "execution_count": 1,
   "metadata": {
    "collapsed": true
   },
   "outputs": [],
   "source": [
    "import random\n",
    "import matplotlib.pyplot as plt"
   ]
  },
  {
   "cell_type": "code",
   "execution_count": 2,
   "metadata": {
    "collapsed": true
   },
   "outputs": [],
   "source": [
    "%matplotlib inline"
   ]
  },
  {
   "cell_type": "code",
   "execution_count": 115,
   "metadata": {
    "collapsed": false
   },
   "outputs": [],
   "source": [
    "class AI_Basic:\n",
    "\n",
    "    def __init__(self):\n",
    "        pass\n",
    "\n",
    "    def ai_roll(self):\n",
    "        return random.choice([1, 2, 3, 4, 5, 6])\n",
    "    \n",
    "    def ai_turn(self): # rolls once and returns score\n",
    "        turn_score = 0\n",
    "        roll_result = self.ai_roll()\n",
    "        if roll_result == 1:\n",
    "            turn_score = 0\n",
    "        else:\n",
    "            turn_score = roll_result\n",
    "        return turn_score\n",
    "        \n",
    "        \n",
    "class AI_Random(AI_Basic): \n",
    "    \n",
    "    def ai_continue(self):\n",
    "        cont = random.randint(0,1)\n",
    "        if cont == 1:\n",
    "            return True\n",
    "        else:\n",
    "            return False\n",
    "    \n",
    "    def ai_turn(self): # randomly chooses to hold or roll again\n",
    "        turn_score = 0\n",
    "        ai_will_roll = True\n",
    "        count = 0\n",
    "        while ai_will_roll == True:\n",
    "            if count == 0:\n",
    "                roll_result = self.ai_roll()\n",
    "                if roll_result == 1:\n",
    "                    turn_score = 0\n",
    "                    ai_will_roll = False\n",
    "                    count = 1\n",
    "                else:\n",
    "                    turn_score += roll_result\n",
    "                    count = 1\n",
    "            else:\n",
    "                if self.ai_continue() == True:\n",
    "                    roll_result = self.ai_roll()\n",
    "                    if roll_result == 1:\n",
    "                        turn_score = 0\n",
    "                        ai_will_roll = False\n",
    "                    else:\n",
    "                        turn_score += roll_result\n",
    "                else:\n",
    "                    ai_will_roll = False\n",
    "        return turn_score\n",
    "\n",
    "\n",
    "class Game:\n",
    "\n",
    "    def __init__(self, player1, player2, rounds=7):\n",
    "        self.player1 = player1\n",
    "        self.player2 = player2\n",
    "        self.rounds = rounds\n",
    "\n",
    "    def update_player_scores(self, round_scores): #tracks the current score of players\n",
    "        self.p1_score += round_scores[0]\n",
    "        self.p2_score += round_scores[1]\n",
    "\n",
    "    def game_round(self): #plays a round and returns score for each player\n",
    "        player1_round_score = self.player1.ai_turn()\n",
    "        player2_round_score = self.player2.ai_turn()\n",
    "        round_scores = [player1_round_score, player2_round_score]\n",
    "        return round_scores\n",
    "\n",
    "    def game_play(self):\n",
    "        current_round = 1\n",
    "        p1_score = 0\n",
    "        p2_score = 0\n",
    "        while current_round <= self.rounds:\n",
    "            round_scores = self.game_round()\n",
    "            p1_score += round_scores[0]\n",
    "            p2_score += round_scores[1]\n",
    "            current_round += 1\n",
    "        final_score = [p1_score, p2_score]\n",
    "        if p1_score > p2_score:\n",
    "            return 1\n",
    "        elif p1_score < p2_score:\n",
    "            return 2\n",
    "        elif p1_score == p2_score:\n",
    "            return 3\n"
   ]
  },
  {
   "cell_type": "code",
   "execution_count": 117,
   "metadata": {
    "collapsed": false
   },
   "outputs": [],
   "source": [
    "def pig_trials(game, trials=10):\n",
    "    pig_results = []\n",
    "    for trial in range(trials):\n",
    "        pig_results.append(game.game_play())\n",
    "    return pig_results"
   ]
  },
  {
   "cell_type": "code",
   "execution_count": 120,
   "metadata": {
    "collapsed": false
   },
   "outputs": [],
   "source": [
    "ai_base = AI_Basic()\n",
    "ai_random = AI_Random()\n",
    "game_one = Game(ai_base, ai_random)"
   ]
  },
  {
   "cell_type": "code",
   "execution_count": 134,
   "metadata": {
    "collapsed": false
   },
   "outputs": [],
   "source": [
    "def pig_final_result(win_list):\n",
    "    p1_wins = 0\n",
    "    p2_wins = 0\n",
    "    for win in win_list:\n",
    "        if win == 1:\n",
    "            p1_wins += 1\n",
    "        elif win == 2:\n",
    "            p2_wins += 1\n",
    "    return [p1_wins, p2_wins]"
   ]
  },
  {
   "cell_type": "code",
   "execution_count": 140,
   "metadata": {
    "collapsed": false
   },
   "outputs": [],
   "source": [
    "pt_thousand = pig_trials(game_one, 1000)\n",
    "thousand_trials = pig_final_result(pt_thousand)"
   ]
  },
  {
   "cell_type": "code",
   "execution_count": 141,
   "metadata": {
    "collapsed": false
   },
   "outputs": [
    {
     "data": {
      "image/png": "[encoded data removed]",
      "text/plain": [
       "<matplotlib.figure.Figure at 0x104a8d710>"
      ]
     },
     "metadata": {},
     "output_type": "display_data"
    }
   ],
   "source": [
    "plt.bar(range(len(thousand_trials)), thousand_trials, align=\"center\")\n",
    "plt.xticks([0, 1], [\"Base AI\", \"Random AI\"])\n",
    "plt.title(\"Total Wins by Player\")\n",
    "plt.xlabel(\"Winning Player\")\n",
    "plt.ylabel(\"Number of Wins\")\n",
    "plt.show()"
   ]
  },
  {
   "cell_type": "markdown",
   "metadata": {},
   "source": [
    "This graph shows the total number of wins over 1000 games with the Base AI playing the Random AI. Base AI rolls once then stops. Random AI will randomly choose whether to roll again or hold. It's quite apparent that rolling only once on each turn is a terrible strategy for playing pig solitaire."
   ]
  },
  {
   "cell_type": "code",
   "execution_count": 153,
   "metadata": {
    "collapsed": false
   },
   "outputs": [],
   "source": [
    "class AI_Rolls(AI_Basic):\n",
    "    \n",
    "    def __init__(self, rolls):\n",
    "        self.rolls = rolls\n",
    "    \n",
    "    def ai_turn(self):\n",
    "        turn_score = 0\n",
    "        count = 0\n",
    "        while count < self.rolls:\n",
    "            roll_result = self.ai_roll()\n",
    "            if roll_result == 1:\n",
    "                turn_score = 0\n",
    "                count = self.rolls + 1\n",
    "            else:\n",
    "                turn_score += roll_result\n",
    "                count += 1\n",
    "        return turn_score"
   ]
  },
  {
   "cell_type": "code",
   "execution_count": 154,
   "metadata": {
    "collapsed": true
   },
   "outputs": [],
   "source": [
    "ai_rolls = AI_Rolls(3)\n",
    "game_two = Game(ai_random, ai_rolls)"
   ]
  },
  {
   "cell_type": "code",
   "execution_count": 155,
   "metadata": {
    "collapsed": true
   },
   "outputs": [],
   "source": [
    "pig_trials_thousand_two = pig_trials(game_two, 1000)"
   ]
  },
  {
   "cell_type": "code",
   "execution_count": 156,
   "metadata": {
    "collapsed": true
   },
   "outputs": [],
   "source": [
    "trial_two_results = pig_final_result(pig_trials_thousand_two)"
   ]
  },
  {
   "cell_type": "code",
   "execution_count": 157,
   "metadata": {
    "collapsed": false
   },
   "outputs": [
    {
     "data": {
      "image/png": "[encoded data removed]",
      "text/plain": [
       "<matplotlib.figure.Figure at 0x104b1d9e8>"
      ]
     },
     "metadata": {},
     "output_type": "display_data"
    }
   ],
   "source": [
    "plt.bar(range(len(trial_two_results)), trial_two_results, align=\"center\")\n",
    "plt.xticks([0, 1], [\"Random AI\", \"Roll AI\"])\n",
    "plt.title(\"Total Wins by Player\")\n",
    "plt.xlabel(\"Winning Player\")\n",
    "plt.ylabel(\"Number of Wins\")\n",
    "plt.show()"
   ]
  },
  {
   "cell_type": "markdown",
   "metadata": {},
   "source": [
    "Roll AI will roll 3 times and then hold. Against the Random AI, which randomly chooses to roll again or hold, the Roll AI wins pretty handily."
   ]
  },
  {
   "cell_type": "code",
   "execution_count": 161,
   "metadata": {
    "collapsed": true
   },
   "outputs": [],
   "source": [
    "ai_rolls_four = AI_Rolls(4)\n",
    "game_three = Game(ai_rolls, ai_rolls_four)\n",
    "pig_trials_thousand_three = pig_trials(game_three, 10000)\n",
    "trial_three_results = pig_final_result(pig_trials_thousand_three)"
   ]
  },
  {
   "cell_type": "code",
   "execution_count": 162,
   "metadata": {
    "collapsed": false
   },
   "outputs": [
    {
     "data": {
      "image/png": "[encoded data removed]",
      "text/plain": [
       "<matplotlib.figure.Figure at 0x104a40e48>"
      ]
     },
     "metadata": {},
     "output_type": "display_data"
    }
   ],
   "source": [
    "plt.bar(range(len(trial_three_results)), trial_three_results, align=\"center\")\n",
    "plt.xticks([0, 1], [\"Roll 3 AI\", \"Roll 4 AI\"])\n",
    "plt.title(\"Total Wins by Player\")\n",
    "plt.xlabel(\"Winning Player\")\n",
    "plt.ylabel(\"Number of Wins\")\n",
    "plt.show()"
   ]
  },
  {
   "cell_type": "markdown",
   "metadata": {},
   "source": [
    "Over 10,000 games, an AI that rolls 4 times before holding will win about 55% of the time compared to about 43% of the time for an AI that rolls 3 times."
   ]
  },
  {
   "cell_type": "code",
   "execution_count": null,
   "metadata": {
    "collapsed": true
   },
   "outputs": [],
   "source": [
    "ai_rolls_five = AI_Rolls(5)"
   ]
  },
  {
   "cell_type": "code",
   "execution_count": 579,
   "metadata": {
    "collapsed": false
   },
   "outputs": [],
   "source": [
    "game_four = Game(ai_rolls_four, ai_rolls_five)\n",
    "pig_trials_four = pig_trials(game_four, 10000)\n",
    "trial_four_results = pig_final_result(pig_trials_four)"
   ]
  },
  {
   "cell_type": "code",
   "execution_count": 580,
   "metadata": {
    "collapsed": false
   },
   "outputs": [
    {
     "data": {
      "image/png": "[encoded data removed]",
      "text/plain": [
       "<matplotlib.figure.Figure at 0x104dec748>"
      ]
     },
     "metadata": {},
     "output_type": "display_data"
    }
   ],
   "source": [
    "plt.bar(range(len(trial_four_results)), trial_four_results, align=\"center\")\n",
    "plt.xticks([0, 1], [\"Roll 4 AI\", \"Roll 5 AI\"])\n",
    "plt.title(\"Total Wins by Player\")\n",
    "plt.xlabel(\"Winning Player\")\n",
    "plt.ylabel(\"Number of Wins\")\n",
    "plt.show()"
   ]
  },
  {
   "cell_type": "markdown",
   "metadata": {},
   "source": [
    "Rolling 5 times beats out rolling 4 times, but only slightly, over 10,000 games. I ran this simulation a number of times as well, and though it was close at times, rolling 5 always beat out rolling 4 over the course of 10,000 games."
   ]
  },
  {
   "cell_type": "code",
   "execution_count": 493,
   "metadata": {
    "collapsed": true
   },
   "outputs": [],
   "source": [
    "ai_rolls_six = AI_Rolls(6)\n",
    "game_five = Game(ai_rolls_five, ai_rolls_six)\n",
    "pig_trials_five = pig_trials(game_five, 10000)\n",
    "trial_five_results = pig_final_result(pig_trials_five)"
   ]
  },
  {
   "cell_type": "code",
   "execution_count": 494,
   "metadata": {
    "collapsed": false
   },
   "outputs": [
    {
     "data": {
      "image/png": "[encoded data removed]",
      "text/plain": [
       "<matplotlib.figure.Figure at 0x104fc7f98>"
      ]
     },
     "metadata": {},
     "output_type": "display_data"
    }
   ],
   "source": [
    "plt.bar(range(len(trial_five_results)), trial_five_results, align=\"center\")\n",
    "plt.xticks([0, 1], [\"Roll 5 AI\", \"Roll 6 AI\"])\n",
    "plt.title(\"Total Wins by Player\")\n",
    "plt.xlabel(\"Winning Player\")\n",
    "plt.ylabel(\"Number of Wins\")\n",
    "plt.show()"
   ]
  },
  {
   "cell_type": "markdown",
   "metadata": {},
   "source": [
    "Initially it seemed that a strategy of rolling 5 times before holding seems to just barely beat out a strategy of rolling 6 times. However, with more simulations, there is no clear winner. Sometimes 6 rolls beats 5, sometimes 5 beats 6, sometimes it looks even. So I'll use both of them going forward. I did run against 7 rolls and 7 doesn't win as often. This actually makes sense when we think about the probability of rolling a 1, which is 1 in 6."
   ]
  },
  {
   "cell_type": "code",
   "execution_count": 348,
   "metadata": {
    "collapsed": true
   },
   "outputs": [],
   "source": [
    "class AI_Score(AI_Basic):\n",
    "    \n",
    "    def __init__(self, hold_score):\n",
    "        self.hold_score = hold_score\n",
    "    \n",
    "    def ai_turn(self):\n",
    "        turn_score = 0\n",
    "        count = 0\n",
    "        while turn_score <= self.hold_score and count == 0:\n",
    "            roll_result = self.ai_roll()\n",
    "            if roll_result == 1:\n",
    "                turn_score = 0\n",
    "                count = 1\n",
    "            else:\n",
    "                turn_score += roll_result\n",
    "        return turn_score"
   ]
  },
  {
   "cell_type": "code",
   "execution_count": 441,
   "metadata": {
    "collapsed": true
   },
   "outputs": [],
   "source": [
    "ai_score_fifteen = AI_Score(15)\n",
    "ai_score_twenty = AI_Score(20)\n",
    "game_six = Game(ai_score_fifteen, ai_score_twenty)\n",
    "pig_trials_six = pig_trials(game_six, 10000)\n",
    "trial_six_results = pig_final_result(pig_trials_six)"
   ]
  },
  {
   "cell_type": "code",
   "execution_count": 442,
   "metadata": {
    "collapsed": false
   },
   "outputs": [
    {
     "data": {
      "image/png": "[encoded data removed]",
      "text/plain": [
       "<matplotlib.figure.Figure at 0x1051472b0>"
      ]
     },
     "metadata": {},
     "output_type": "display_data"
    }
   ],
   "source": [
    "plt.bar(range(len(trial_six_results)), trial_six_results, align=\"center\")\n",
    "plt.xticks([0, 1], [\"Score 15 AI\", \"Score 20 AI\"])\n",
    "plt.title(\"Total Wins by Player\")\n",
    "plt.xlabel(\"Winning Player\")\n",
    "plt.ylabel(\"Number of Wins\")\n",
    "plt.show()"
   ]
  },
  {
   "cell_type": "markdown",
   "metadata": {},
   "source": [
    "I ran the two cells above a bunch of times, putting in different scores for holding at, and the results were very interesting. It seems that the optimal score to hold at depends on who you're playing against. So when a score-20 player is against a score 15-player, the results are very close. If the score-20 player is against a score-18 player, the score-20 player wins more often. But score-20 loses to a score-22 player, while a score-22 player loses, though just barely, to a score-15 player. My theory to explain this is that when two players are both trying to reach a certain score, if the scores are close together, the one with the higher score-goal will usually win, because they're both taking similar risks, but the higher score is a better payoff. If the score goals are spread out, like 22 and 15, the potential payoff may be offset by the higher risk of rolling a 1 while trying for the higher score. From doing some reading, it seems that 20 is the optimal score to shoot for, based on the 1 to 5 odds of rolling a 1 or a non-1, and the sum of the remaining numbers 2, 3, 4, 5, and 6 (see: http://cs.gettysburg.edu/~tneller/papers/pig.pdf). However, as the graph below shows, when one player shoots for 20 on each round, if the other player shoots for 21 he can win more often."
   ]
  },
  {
   "cell_type": "code",
   "execution_count": 567,
   "metadata": {
    "collapsed": true
   },
   "outputs": [],
   "source": [
    "ai_score_twenty_one = AI_Score(21)\n",
    "game_seven = Game(ai_score_twenty, ai_score_twenty_one)\n",
    "pig_trials_seven = pig_trials(game_seven, 10000)\n",
    "trial_seven_results = pig_final_result(pig_trials_seven)"
   ]
  },
  {
   "cell_type": "code",
   "execution_count": 568,
   "metadata": {
    "collapsed": false
   },
   "outputs": [
    {
     "data": {
      "image/png": "[encoded data removed]",
      "text/plain": [
       "<matplotlib.figure.Figure at 0x104f8b940>"
      ]
     },
     "metadata": {},
     "output_type": "display_data"
    }
   ],
   "source": [
    "plt.bar(range(len(trial_seven_results)), trial_seven_results, align=\"center\")\n",
    "plt.xticks([0, 1], [\"Score 20 AI\", \"Score 21 AI\"])\n",
    "plt.title(\"Total Wins by Player\")\n",
    "plt.xlabel(\"Winning Player\")\n",
    "plt.ylabel(\"Number of Wins\")\n",
    "plt.show()"
   ]
  },
  {
   "cell_type": "markdown",
   "metadata": {},
   "source": [
    "Note that the player shooting for 21 beats the player trying for 20, perhaps because the payoff is higher by 1 point while the risk of rolling a 1 is very similar."
   ]
  },
  {
   "cell_type": "code",
   "execution_count": 473,
   "metadata": {
    "collapsed": true
   },
   "outputs": [],
   "source": [
    "game_eight = Game(ai_score_twenty, ai_rolls_five)\n",
    "pig_trials_eight = pig_trials(game_eight, 10000)\n",
    "trial_eight_results = pig_final_result(pig_trials_eight)"
   ]
  },
  {
   "cell_type": "code",
   "execution_count": 474,
   "metadata": {
    "collapsed": false
   },
   "outputs": [
    {
     "data": {
      "image/png": "[encoded data removed]",
      "text/plain": [
       "<matplotlib.figure.Figure at 0x104a34b70>"
      ]
     },
     "metadata": {},
     "output_type": "display_data"
    }
   ],
   "source": [
    "plt.bar(range(len(trial_eight_results)), trial_eight_results, align=\"center\")\n",
    "plt.xticks([0, 1], [\"Score 20 AI\", \"Roll 5 AI\"])\n",
    "plt.title(\"Total Wins by Player\")\n",
    "plt.xlabel(\"Winning Player\")\n",
    "plt.ylabel(\"Number of Wins\")\n",
    "plt.show()"
   ]
  },
  {
   "cell_type": "markdown",
   "metadata": {},
   "source": [
    "The player who tries to get 20 and then holds appears to win more often than the player who tries to roll 5 times and then hold. This was pretty consistent in running the simulation a few times."
   ]
  },
  {
   "cell_type": "code",
   "execution_count": 571,
   "metadata": {
    "collapsed": true
   },
   "outputs": [],
   "source": [
    "game_nine = Game(ai_score_twenty, ai_rolls_six)\n",
    "pig_trials_nine = pig_trials(game_nine, 10000)\n",
    "trial_nine_results = pig_final_result(pig_trials_nine)"
   ]
  },
  {
   "cell_type": "code",
   "execution_count": 572,
   "metadata": {
    "collapsed": false
   },
   "outputs": [
    {
     "data": {
      "image/png": "[encoded data removed]",
      "text/plain": [
       "<matplotlib.figure.Figure at 0x104c05be0>"
      ]
     },
     "metadata": {},
     "output_type": "display_data"
    }
   ],
   "source": [
    "plt.bar(range(len(trial_nine_results)), trial_nine_results, align=\"center\")\n",
    "plt.xticks([0, 1], [\"Score 20 AI\", \"Roll 6 AI\"])\n",
    "plt.title(\"Total Wins by Player\")\n",
    "plt.xlabel(\"Winning Player\")\n",
    "plt.ylabel(\"Number of Wins\")\n",
    "plt.show()"
   ]
  },
  {
   "cell_type": "markdown",
   "metadata": {},
   "source": [
    "The player who rolls 6 times before holding seems to win out over the player who tries to get 20 points per round. This one did flip back and forth some as I ran it multiple times, so there was no consistent overall winner."
   ]
  },
  {
   "cell_type": "code",
   "execution_count": 564,
   "metadata": {
    "collapsed": false
   },
   "outputs": [],
   "source": [
    "ai_score_eighteen = AI_Score(18)\n",
    "\n",
    "game_ten = Game(ai_score_eighteen, ai_rolls_five)\n",
    "pig_trials_ten = pig_trials(game_ten, 10000)\n",
    "trial_ten_results = pig_final_result(pig_trials_ten)"
   ]
  },
  {
   "cell_type": "code",
   "execution_count": 566,
   "metadata": {
    "collapsed": false
   },
   "outputs": [
    {
     "data": {
      "image/png": "[encoded data removed]",
      "text/plain": [
       "<matplotlib.figure.Figure at 0x104cb30b8>"
      ]
     },
     "metadata": {},
     "output_type": "display_data"
    }
   ],
   "source": [
    "plt.bar(range(len(trial_ten_results)), trial_ten_results, align=\"center\")\n",
    "plt.xticks([0, 1], [\"Score 18 AI\", \"Roll 5 AI\"])\n",
    "plt.title(\"Total Wins by Player\")\n",
    "plt.xlabel(\"Winning Player\")\n",
    "plt.ylabel(\"Number of Wins\")\n",
    "plt.show()"
   ]
  },
  {
   "cell_type": "markdown",
   "metadata": {},
   "source": [
    "Going for a score of 18 seems to be slightly better strategy than rolling 5 times and then holding, as seen in this graph."
   ]
  },
  {
   "cell_type": "markdown",
   "metadata": {},
   "source": [
    "# Conclusion"
   ]
  },
  {
   "cell_type": "markdown",
   "metadata": {},
   "source": [
    "My overall conclusion from these simulations is that there is no clear cut 'best' strategy. There are, however, a couple of better strategies worth using to improve your chances of winning at pig solitaire. If deciding when to hold based on number of rolls of the dice already completed, 5 or 6 rolls is the best strategy, with 6 rolls perhaps being preferred by those who are willing to take the risk of an extra roll, and 5 rolls perhaps more comfortable for the cautious among us. If going by points accumulated on a turn, then the 18-20 range is a good target to aim at on each round. However, if you are playing against someone using this strategy also, you might want to see if you can beat them by aiming for 21 or 22 points on each round. In short, if you can gauage your opponent's strategy and risk level, then aim for slighly above that if they are rolling 5 times or holding at 18-20 points, you should win more often than lose."
   ]
  },
  {
   "cell_type": "code",
   "execution_count": null,
   "metadata": {
    "collapsed": true
   },
   "outputs": [],
   "source": []
  }
 ],
 "metadata": {
  "kernelspec": {
   "display_name": "Python 3",
   "language": "python",
   "name": "python3"
  },
  "language_info": {
   "codemirror_mode": {
    "name": "ipython",
    "version": 3
   },
   "file_extension": ".py",
   "mimetype": "text/x-python",
   "name": "python",
   "nbconvert_exporter": "python",
   "pygments_lexer": "ipython3",
   "version": "3.5.0"
  }
 },
 "nbformat": 4,
 "nbformat_minor": 0
}
