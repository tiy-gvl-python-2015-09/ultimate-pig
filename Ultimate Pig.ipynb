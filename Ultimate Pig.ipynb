{
 "cells": [
  {
   "cell_type": "code",
   "execution_count": 3,
   "metadata": {
    "collapsed": true
   },
   "outputs": [],
   "source": [
    "import random\n",
    "import math\n",
    "import statistics\n",
    "import matplotlib.pyplot as plt\n"
   ]
  },
  {
   "cell_type": "code",
   "execution_count": 4,
   "metadata": {
    "collapsed": true
   },
   "outputs": [],
   "source": [
    "%matplotlib inline"
   ]
  },
  {
   "cell_type": "code",
   "execution_count": 11,
   "metadata": {
    "collapsed": false
   },
   "outputs": [
    {
     "name": "stdout",
     "output_type": "stream",
     "text": [
      "Player scored 26 points in 7 rounds.\n"
     ]
    }
   ],
   "source": [
    "import random\n",
    "\n",
    "class Dice:\n",
    "\n",
    "    def roll(self):\n",
    "        return random.randint(1,6)\n",
    "\n",
    "class Player_base:\n",
    "    \n",
    "    def __init__(self, rounds=7):\n",
    "        self.dice = Dice()\n",
    "        self.rounds = rounds\n",
    "        self.score_total = 0\n",
    "\n",
    "    def player_turn(self):\n",
    "        round_count = 0\n",
    "        counter = 0\n",
    "        self.roll_number = 0\n",
    "        self.game_score = 0\n",
    "        self.round_score = 0\n",
    "        list_scores = []\n",
    "        while round_count < self.rounds:\n",
    "            round_count += 1\n",
    "            counter = 0\n",
    "            while counter < 1:\n",
    "                roll = self.dice.roll()\n",
    "                if roll == 1:\n",
    "                    self.round_score = 0\n",
    "                    list_scores.append(self.round_score)\n",
    "                    counter = 1 \n",
    "                else:\n",
    "                    self.round_score += roll\n",
    "                    self.game_score += self.round_score\n",
    "                    list_scores.append(self.round_score)\n",
    "                    self.round_score = 0\n",
    "                    counter = 1\n",
    "        \n",
    "        print(\"Player scored {} points in {} rounds.\".format(self.game_score, self.rounds))\n",
    "\n",
    "player = Player_base()\n",
    "player.player_turn()\n"
   ]
  },
  {
   "cell_type": "code",
   "execution_count": 15,
   "metadata": {
    "collapsed": false
   },
   "outputs": [
    {
     "name": "stdout",
     "output_type": "stream",
     "text": [
      "End of Game. Player scored 45 points in 7 rounds.\n"
     ]
    }
   ],
   "source": [
    "class Player_Score_20:\n",
    "    \n",
    "    def __init__(self, rounds=7):\n",
    "        self.dice = Dice()\n",
    "        self.rounds = rounds\n",
    "        self.score_total = 0\n",
    "\n",
    "    def player_turn(self):\n",
    "        round_count = 0\n",
    "        counter = 0\n",
    "        self.roll_number = 0\n",
    "        self.game_score = 0\n",
    "        self.round_score = 0\n",
    "        list_scores = []\n",
    "        while round_count < self.rounds:\n",
    "            round_count += 1\n",
    "            #print(\"Round #{}. Game total: {}.\".format(round_count, self.game_score))\n",
    "            counter = 0\n",
    "            while counter < 1:\n",
    "                roll = self.dice.roll()\n",
    "                #print(\"Computer rolls a {}\".format(roll))\n",
    "                if roll == 1:\n",
    "                    self.round_score = 0\n",
    "                    list_scores.append(self.round_score)\n",
    "                    #print(\"End of Round #{}. Round Score: {}. Total Score: {}.\".format(round_count, self.round_score, self.game_score))\n",
    "                    #print(\"------------------------\")\n",
    "                    counter = 1 \n",
    "                else:\n",
    "                    self.round_score += roll\n",
    "                    if self.round_score < 20:\n",
    "                        #print(\"Computer chooses to roll again.\")\n",
    "                        #print(\"------------------------\")\n",
    "                        continue\n",
    "                    else:\n",
    "                        self.game_score += self.round_score\n",
    "                        list_scores.append(self.round_score)\n",
    "                        #print(\"Computer ends turn. Round Score: {}.\".format(self.round_score))\n",
    "                        #print(\"------------------------\")\n",
    "                        self.round_score = 0\n",
    "                        counter = 1\n",
    "        \n",
    "        print(\"End of Game. Player scored {} points in {} rounds.\".format(self.game_score, self.rounds))\n",
    "\n",
    "player = Player_Score_20()\n",
    "player.player_turn()\n"
   ]
  },
  {
   "cell_type": "code",
   "execution_count": 196,
   "metadata": {
    "collapsed": false
   },
   "outputs": [
    {
     "data": {
      "text/plain": [
       "23.445"
      ]
     },
     "execution_count": 196,
     "metadata": {},
     "output_type": "execute_result"
    }
   ],
   "source": [
    "class Player_base:\n",
    "    \n",
    "    def __init__(self, samples=1000, rounds=7):\n",
    "        self.samples = samples\n",
    "        self.dice = Dice()\n",
    "        self.rounds = rounds\n",
    "        self.score_total = 0\n",
    "\n",
    "    def player_turn(self):\n",
    "        list_round_scores = []\n",
    "        self.list_samples = []\n",
    "        self.sample = 0\n",
    "        for x in range(self.samples):\n",
    "            round_count = 0\n",
    "            self.game_score = 0\n",
    "            self.round_score = 0\n",
    "            counter = 0\n",
    "            self.roll_number = 0\n",
    "            while round_count < self.rounds:\n",
    "                round_count += 1\n",
    "                counter = 0\n",
    "                while counter < 1:\n",
    "                    roll = self.dice.roll()\n",
    "                    if roll == 1:\n",
    "                        self.round_score = 0\n",
    "                        list_round_scores.append(self.round_score)\n",
    "                        counter = 1 \n",
    "                    else:\n",
    "                        self.round_score += roll\n",
    "                        self.game_score += self.round_score\n",
    "                        list_round_scores.append(self.round_score)\n",
    "                        self.round_score = 0\n",
    "                        counter = 1\n",
    "            self.list_samples.append(self.game_score)\n",
    "            self.average = sum(self.list_samples) / len(self.list_samples)\n",
    "        return self.list_samples\n",
    "\n",
    "player = Player_base()\n",
    "base_results = player.player_turn()\n",
    "player.average"
   ]
  },
  {
   "cell_type": "code",
   "execution_count": 226,
   "metadata": {
    "collapsed": false
   },
   "outputs": [
    {
     "data": {
      "image/png": "[encoded data removed]",
      "text/plain": [
       "<matplotlib.figure.Figure at 0x10fb7fef0>"
      ]
     },
     "metadata": {},
     "output_type": "display_data"
    }
   ],
   "source": [
    "plt.hist(base_results, bins=10)\n",
    "plt.title(\"Score distribution for One Turn Player (1000 Turns)\")\n",
    "plt.xlabel(\"Score\")\n",
    "plt.ylabel(\"Occurrences\")\n",
    "plt.text(6, 300, \"Mean = {}\".format(player.average), fontsize=12,\n",
    "        verticalalignment='top',bbox={'facecolor':'blue', 'alpha':0.4, 'pad':10})\n",
    "\n",
    "plt.show()"
   ]
  },
  {
   "cell_type": "markdown",
   "metadata": {},
   "source": [
    "This shows the score distribution over a seven round game for an AI who only takes one roll per turn."
   ]
  },
  {
   "cell_type": "code",
   "execution_count": 265,
   "metadata": {
    "collapsed": false
   },
   "outputs": [
    {
     "data": {
      "text/plain": [
       "56.7561"
      ]
     },
     "execution_count": 265,
     "metadata": {},
     "output_type": "execute_result"
    }
   ],
   "source": [
    "class Player_Score_20:\n",
    "    \n",
    "    def __init__(self, samples=10000, rounds=7):\n",
    "        self.samples = samples\n",
    "        self.dice = Dice()\n",
    "        self.rounds = rounds\n",
    "        self.score_total = 0\n",
    "\n",
    "    def player_turn(self):\n",
    "        list_round_scores = []\n",
    "        self.list_samples = []\n",
    "        self.sample = 0\n",
    "        for x in range(self.samples):\n",
    "            round_count = 0\n",
    "            self.game_score = 0\n",
    "            self.round_score = 0\n",
    "            counter = 0\n",
    "            self.roll_number = 0\n",
    "            while round_count < self.rounds:\n",
    "                round_count += 1\n",
    "                counter = 0\n",
    "                while counter < 1:\n",
    "                    roll = self.dice.roll()\n",
    "                    if roll == 1:\n",
    "                        self.round_score = 0\n",
    "                        list_round_scores.append(self.round_score)\n",
    "                        counter = 1 \n",
    "                    else:\n",
    "                        self.round_score += roll\n",
    "                        if self.round_score < 20:\n",
    "                            continue\n",
    "                        else:\n",
    "                            self.game_score += self.round_score\n",
    "                            list_round_scores.append(self.round_score)\n",
    "                            self.round_score = 0\n",
    "                            counter = 1\n",
    "            self.list_samples.append(self.game_score)\n",
    "            self.average = sum(self.list_samples) / len(self.list_samples)\n",
    "        return self.list_samples\n",
    "\n",
    "player = Player_Score_20()\n",
    "Score_20_results = player.player_turn()\n",
    "player.average"
   ]
  },
  {
   "cell_type": "code",
   "execution_count": 347,
   "metadata": {
    "collapsed": false
   },
   "outputs": [
    {
     "data": {
      "image/png": "[encoded data removed]",
      "text/plain": [
       "<matplotlib.figure.Figure at 0x110f609e8>"
      ]
     },
     "metadata": {},
     "output_type": "display_data"
    }
   ],
   "source": [
    "plt.hist(Score_20_results, bins=8)\n",
    "plt.title(\"Score distribution for Player Banking at Score 20 (10000 Turns)\")\n",
    "plt.xlabel(\"Score\")\n",
    "plt.ylabel(\"Occurrences\")\n",
    "plt.text(100, 2500, \"Mean = {}\".format(player.average), fontsize=12,\n",
    "        verticalalignment='top',bbox={'facecolor':'blue', 'alpha':0.4, 'pad':10})\n",
    "\n",
    "plt.show()"
   ]
  },
  {
   "cell_type": "code",
   "execution_count": 276,
   "metadata": {
    "collapsed": false
   },
   "outputs": [
    {
     "data": {
      "text/plain": [
       "56.3802"
      ]
     },
     "execution_count": 276,
     "metadata": {},
     "output_type": "execute_result"
    }
   ],
   "source": [
    "class Player_Score_25:\n",
    "    \n",
    "    def __init__(self, samples=10000, rounds=7):\n",
    "        self.samples = samples\n",
    "        self.dice = Dice()\n",
    "        self.rounds = rounds\n",
    "        self.score_total = 0\n",
    "\n",
    "    def player_turn(self):\n",
    "        list_round_scores = []\n",
    "        self.list_samples = []\n",
    "        self.sample = 0\n",
    "        for x in range(self.samples):\n",
    "            round_count = 0\n",
    "            self.game_score = 0\n",
    "            self.round_score = 0\n",
    "            counter = 0\n",
    "            self.roll_number = 0\n",
    "            while round_count < self.rounds:\n",
    "                round_count += 1\n",
    "                counter = 0\n",
    "                while counter < 1:\n",
    "                    roll = self.dice.roll()\n",
    "                    if roll == 1:\n",
    "                        self.round_score = 0\n",
    "                        list_round_scores.append(self.round_score)\n",
    "                        counter = 1 \n",
    "                    else:\n",
    "                        self.round_score += roll\n",
    "                        if self.round_score < 25:\n",
    "                            continue\n",
    "                        else:\n",
    "                            self.game_score += self.round_score\n",
    "                            list_round_scores.append(self.round_score)\n",
    "                            self.round_score = 0\n",
    "                            counter = 1\n",
    "            self.list_samples.append(self.game_score)\n",
    "            self.average = sum(self.list_samples) / len(self.list_samples)\n",
    "        return self.list_samples\n",
    "\n",
    "player = Player_Score_25()\n",
    "Player_Score_25_results = player.player_turn()\n",
    "player.average"
   ]
  },
  {
   "cell_type": "code",
   "execution_count": 346,
   "metadata": {
    "collapsed": false
   },
   "outputs": [
    {
     "data": {
      "image/png": "[encoded data removed]",
      "text/plain": [
       "<matplotlib.figure.Figure at 0x110b3cb38>"
      ]
     },
     "metadata": {},
     "output_type": "display_data"
    }
   ],
   "source": [
    "plt.hist(Player_Score_25_results, bins=9)\n",
    "plt.title(\"Score distribution for Player Banking at Score 25 (10000 Turns)\")\n",
    "plt.xlabel(\"Score\")\n",
    "plt.ylabel(\"Occurrences\")\n",
    "plt.text(125, 2500, \"Mean = {}\".format(player.average), fontsize=12,\n",
    "        verticalalignment='top',bbox={'facecolor':'blue', 'alpha':0.4, 'pad':10})\n",
    "\n",
    "plt.show()"
   ]
  },
  {
   "cell_type": "markdown",
   "metadata": {},
   "source": [
    "When having the AI end their turn after scoring 25, rather than 20, we see the score distribution shift as higher scores are possible and have a greater possibility of occuring. However, the overall 7 round average goes down slightly. "
   ]
  },
  {
   "cell_type": "code",
   "execution_count": 288,
   "metadata": {
    "collapsed": false
   },
   "outputs": [
    {
     "data": {
      "text/plain": [
       "52.8344"
      ]
     },
     "execution_count": 288,
     "metadata": {},
     "output_type": "execute_result"
    }
   ],
   "source": [
    "class Player_Score_30:\n",
    "    \n",
    "    def __init__(self, samples=10000, rounds=7):\n",
    "        self.samples = samples\n",
    "        self.dice = Dice()\n",
    "        self.rounds = rounds\n",
    "        self.score_total = 0\n",
    "\n",
    "    def player_turn(self):\n",
    "        list_round_scores = []\n",
    "        self.list_samples = []\n",
    "        self.sample = 0\n",
    "        for x in range(self.samples):\n",
    "            round_count = 0\n",
    "            self.game_score = 0\n",
    "            self.round_score = 0\n",
    "            counter = 0\n",
    "            self.roll_number = 0\n",
    "            while round_count < self.rounds:\n",
    "                round_count += 1\n",
    "                counter = 0\n",
    "                while counter < 1:\n",
    "                    roll = self.dice.roll()\n",
    "                    if roll == 1:\n",
    "                        self.round_score = 0\n",
    "                        list_round_scores.append(self.round_score)\n",
    "                        counter = 1 \n",
    "                    else:\n",
    "                        self.round_score += roll\n",
    "                        if self.round_score < 30:\n",
    "                            continue\n",
    "                        else:\n",
    "                            self.game_score += self.round_score\n",
    "                            list_round_scores.append(self.round_score)\n",
    "                            self.round_score = 0\n",
    "                            counter = 1\n",
    "            self.list_samples.append(self.game_score)\n",
    "            self.average = sum(self.list_samples) / len(self.list_samples)\n",
    "        return self.list_samples\n",
    "\n",
    "player = Player_Score_30()\n",
    "Player_Score_30_results = player.player_turn()\n",
    "player.average"
   ]
  },
  {
   "cell_type": "code",
   "execution_count": 345,
   "metadata": {
    "collapsed": false
   },
   "outputs": [
    {
     "data": {
      "image/png": "[encoded data removed]",
      "text/plain": [
       "<matplotlib.figure.Figure at 0x10e7273c8>"
      ]
     },
     "metadata": {},
     "output_type": "display_data"
    }
   ],
   "source": [
    "plt.hist(Player_Score_30_results, bins=7)\n",
    "plt.title(\"Score distribution for Player Banking at Score 30 (10000 Turns)\")\n",
    "plt.xlabel(\"Score\")\n",
    "plt.ylabel(\"Occurrences\")\n",
    "plt.text(125, 2500, \"Mean = {}\".format(player.average), fontsize=12,\n",
    "        verticalalignment='top',bbox={'facecolor':'blue', 'alpha':0.4, 'pad':10})\n",
    "\n",
    "plt.show()"
   ]
  },
  {
   "cell_type": "markdown",
   "metadata": {},
   "source": [
    "We see the average 7 round score continue to go down if we only allow the AI to pass their turn after scoring 30 in a round. Distribution seems relatively the same as the 25 point limit."
   ]
  },
  {
   "cell_type": "code",
   "execution_count": 290,
   "metadata": {
    "collapsed": false
   },
   "outputs": [
    {
     "data": {
      "text/plain": [
       "54.8002"
      ]
     },
     "execution_count": 290,
     "metadata": {},
     "output_type": "execute_result"
    }
   ],
   "source": [
    "class Player_Score_15:\n",
    "    \n",
    "    def __init__(self, samples=10000, rounds=7):\n",
    "        self.samples = samples\n",
    "        self.dice = Dice()\n",
    "        self.rounds = rounds\n",
    "        self.score_total = 0\n",
    "\n",
    "    def player_turn(self):\n",
    "        list_round_scores = []\n",
    "        self.list_samples = []\n",
    "        self.sample = 0\n",
    "        for x in range(self.samples):\n",
    "            round_count = 0\n",
    "            self.game_score = 0\n",
    "            self.round_score = 0\n",
    "            counter = 0\n",
    "            self.roll_number = 0\n",
    "            while round_count < self.rounds:\n",
    "                round_count += 1\n",
    "                counter = 0\n",
    "                while counter < 1:\n",
    "                    roll = self.dice.roll()\n",
    "                    if roll == 1:\n",
    "                        self.round_score = 0\n",
    "                        list_round_scores.append(self.round_score)\n",
    "                        counter = 1 \n",
    "                    else:\n",
    "                        self.round_score += roll\n",
    "                        if self.round_score < 15:\n",
    "                            continue\n",
    "                        else:\n",
    "                            self.game_score += self.round_score\n",
    "                            list_round_scores.append(self.round_score)\n",
    "                            self.round_score = 0\n",
    "                            counter = 1\n",
    "            self.list_samples.append(self.game_score)\n",
    "            self.average = sum(self.list_samples) / len(self.list_samples)\n",
    "        return self.list_samples\n",
    "\n",
    "player = Player_Score_15()\n",
    "Player_Score_15_results = player.player_turn()\n",
    "player.average"
   ]
  },
  {
   "cell_type": "code",
   "execution_count": 344,
   "metadata": {
    "collapsed": false
   },
   "outputs": [
    {
     "data": {
      "image/png": "[encoded data removed]",
      "text/plain": [
       "<matplotlib.figure.Figure at 0x111101940>"
      ]
     },
     "metadata": {},
     "output_type": "display_data"
    }
   ],
   "source": [
    "plt.hist(Player_Score_15_results, bins=7)\n",
    "plt.title(\"Score distribution for Player Banking at Score 15 (10000 Turns)\")\n",
    "plt.xlabel(\"Score\")\n",
    "plt.ylabel(\"Occurrences\")\n",
    "plt.text(95, 2000, \"Mean = {}\".format(player.average), fontsize=12,\n",
    "        verticalalignment='top',bbox={'facecolor':'blue', 'alpha':0.4, 'pad':10})\n",
    "\n",
    "plt.show()"
   ]
  },
  {
   "cell_type": "markdown",
   "metadata": {},
   "source": [
    "The average is not as high as the round limit of 20 - which seems to be optimal. The potential for high scores is also worse."
   ]
  },
  {
   "cell_type": "code",
   "execution_count": 317,
   "metadata": {
    "collapsed": false
   },
   "outputs": [
    {
     "data": {
      "text/plain": [
       "55.9112"
      ]
     },
     "execution_count": 317,
     "metadata": {},
     "output_type": "execute_result"
    }
   ],
   "source": [
    "class Player_Rolls_5:\n",
    "    \n",
    "    def __init__(self, samples=10000, rounds=7):\n",
    "        self.samples = samples\n",
    "        self.dice = Dice()\n",
    "        self.rounds = rounds\n",
    "        self.score_total = 0\n",
    "\n",
    "    def player_turn(self):\n",
    "        list_round_scores = []\n",
    "        self.list_samples = []\n",
    "        self.sample = 0\n",
    "        for x in range(self.samples):\n",
    "            round_count = 0\n",
    "            self.game_score = 0\n",
    "            self.round_score = 0\n",
    "            counter = 0\n",
    "            while round_count < self.rounds:\n",
    "                round_count += 1\n",
    "                counter = 0\n",
    "                self.roll_count = 0\n",
    "                while counter < 1:\n",
    "                    roll = self.dice.roll()\n",
    "                    self.roll_count += 1\n",
    "                    if roll == 1:\n",
    "                        self.round_score = 0\n",
    "                        list_round_scores.append(self.round_score)\n",
    "                        counter = 1 \n",
    "                    else:\n",
    "                        self.round_score += roll\n",
    "                        if self.roll_count < 5:\n",
    "                            continue\n",
    "                        else:\n",
    "                            self.game_score += self.round_score\n",
    "                            list_round_scores.append(self.round_score)\n",
    "                            self.round_score = 0\n",
    "                            counter = 1\n",
    "            self.list_samples.append(self.game_score)\n",
    "            self.average = sum(self.list_samples) / len(self.list_samples)\n",
    "        return self.list_samples\n",
    "\n",
    "player = Player_Rolls_5()\n",
    "Player_Rolls_5_results = player.player_turn()\n",
    "player.average"
   ]
  },
  {
   "cell_type": "code",
   "execution_count": 320,
   "metadata": {
    "collapsed": false
   },
   "outputs": [
    {
     "data": {
      "image/png": "[encoded data removed]",
      "text/plain": [
       "<matplotlib.figure.Figure at 0x110ff20b8>"
      ]
     },
     "metadata": {},
     "output_type": "display_data"
    }
   ],
   "source": [
    "plt.hist(Player_Rolls_5_results, bins=9)\n",
    "plt.title(\"Score distribution for 5 roll Player (10000 Turns)\")\n",
    "plt.xlabel(\"Score\")\n",
    "plt.ylabel(\"Occurrences\")\n",
    "plt.text(100, 2000, \"Mean = {}\".format(player.average), fontsize=12,\n",
    "        verticalalignment='top',bbox={'facecolor':'blue', 'alpha':0.4, 'pad':10})\n",
    "\n",
    "plt.show()"
   ]
  },
  {
   "cell_type": "markdown",
   "metadata": {},
   "source": [
    "Now, we've completely shifted strategy and have placed a round limit on the number of rolls the AI can take. In this run, the AI has to pass after a max of five rolls, which we see results in a very strong average off 56. with a normal distribution."
   ]
  },
  {
   "cell_type": "code",
   "execution_count": 326,
   "metadata": {
    "collapsed": false
   },
   "outputs": [
    {
     "data": {
      "text/plain": [
       "52.3901"
      ]
     },
     "execution_count": 326,
     "metadata": {},
     "output_type": "execute_result"
    }
   ],
   "source": [
    "class Player_Rolls_8:\n",
    "    \n",
    "    def __init__(self, samples=10000, rounds=7):\n",
    "        self.samples = samples\n",
    "        self.dice = Dice()\n",
    "        self.rounds = rounds\n",
    "        self.score_total = 0\n",
    "\n",
    "    def player_turn(self):\n",
    "        list_round_scores = []\n",
    "        self.list_samples = []\n",
    "        self.sample = 0\n",
    "        for x in range(self.samples):\n",
    "            round_count = 0\n",
    "            self.game_score = 0\n",
    "            self.round_score = 0\n",
    "            counter = 0\n",
    "            while round_count < self.rounds:\n",
    "                round_count += 1\n",
    "                counter = 0\n",
    "                self.roll_count = 0\n",
    "                while counter < 1:\n",
    "                    roll = self.dice.roll()\n",
    "                    self.roll_count += 1\n",
    "                    if roll == 1:\n",
    "                        self.round_score = 0\n",
    "                        list_round_scores.append(self.round_score)\n",
    "                        counter = 1 \n",
    "                    else:\n",
    "                        self.round_score += roll\n",
    "                        if self.roll_count < 8:\n",
    "                            continue\n",
    "                        else:\n",
    "                            self.game_score += self.round_score\n",
    "                            list_round_scores.append(self.round_score)\n",
    "                            self.round_score = 0\n",
    "                            counter = 1\n",
    "            self.list_samples.append(self.game_score)\n",
    "            self.average = sum(self.list_samples) / len(self.list_samples)\n",
    "        return self.list_samples\n",
    "\n",
    "player = Player_Rolls_8()\n",
    "Player_Rolls_8_results = player.player_turn()\n",
    "player.average"
   ]
  },
  {
   "cell_type": "code",
   "execution_count": 327,
   "metadata": {
    "collapsed": false
   },
   "outputs": [
    {
     "data": {
      "image/png": "[encoded data removed]",
      "text/plain": [
       "<matplotlib.figure.Figure at 0x110f6df28>"
      ]
     },
     "metadata": {},
     "output_type": "display_data"
    }
   ],
   "source": [
    "plt.hist(Player_Rolls_8_results, bins=9)\n",
    "plt.title(\"Score distribution for 5 roll Player (10000 Turns)\")\n",
    "plt.xlabel(\"Score\")\n",
    "plt.ylabel(\"Occurrences\")\n",
    "plt.text(100, 2000, \"Mean = {}\".format(player.average), fontsize=12,\n",
    "        verticalalignment='top',bbox={'facecolor':'blue', 'alpha':0.4, 'pad':10})\n",
    "\n",
    "plt.show()"
   ]
  },
  {
   "cell_type": "markdown",
   "metadata": {},
   "source": [
    "Interestingly, increasing this limit to 8 rolls decreases the computer's score pretty significantly. Likely, the computer is trying to stretch it's luck too thin by never banking until after roll 8. The chance of rolling a 1 within these turns is too high. However, if you are going for a max score this looks like the way to go, as there was a score in the 200 range"
   ]
  },
  {
   "cell_type": "code",
   "execution_count": 328,
   "metadata": {
    "collapsed": false
   },
   "outputs": [
    {
     "data": {
      "text/plain": [
       "37.6263"
      ]
     },
     "execution_count": 328,
     "metadata": {},
     "output_type": "execute_result"
    }
   ],
   "source": [
    "class Player_Rolls_12:\n",
    "    \n",
    "    def __init__(self, samples=10000, rounds=7):\n",
    "        self.samples = samples\n",
    "        self.dice = Dice()\n",
    "        self.rounds = rounds\n",
    "        self.score_total = 0\n",
    "\n",
    "    def player_turn(self):\n",
    "        list_round_scores = []\n",
    "        self.list_samples = []\n",
    "        self.sample = 0\n",
    "        for x in range(self.samples):\n",
    "            round_count = 0\n",
    "            self.game_score = 0\n",
    "            self.round_score = 0\n",
    "            counter = 0\n",
    "            while round_count < self.rounds:\n",
    "                round_count += 1\n",
    "                counter = 0\n",
    "                self.roll_count = 0\n",
    "                while counter < 1:\n",
    "                    roll = self.dice.roll()\n",
    "                    self.roll_count += 1\n",
    "                    if roll == 1:\n",
    "                        self.round_score = 0\n",
    "                        list_round_scores.append(self.round_score)\n",
    "                        counter = 1 \n",
    "                    else:\n",
    "                        self.round_score += roll\n",
    "                        if self.roll_count < 12:\n",
    "                            continue\n",
    "                        else:\n",
    "                            self.game_score += self.round_score\n",
    "                            list_round_scores.append(self.round_score)\n",
    "                            self.round_score = 0\n",
    "                            counter = 1\n",
    "            self.list_samples.append(self.game_score)\n",
    "            self.average = sum(self.list_samples) / len(self.list_samples)\n",
    "        return self.list_samples\n",
    "\n",
    "player = Player_Rolls_12()\n",
    "Player_Rolls_12_results = player.player_turn()\n",
    "player.average"
   ]
  },
  {
   "cell_type": "code",
   "execution_count": 343,
   "metadata": {
    "collapsed": false
   },
   "outputs": [
    {
     "data": {
      "image/png": "[encoded data removed]",
      "text/plain": [
       "<matplotlib.figure.Figure at 0x110f56e10>"
      ]
     },
     "metadata": {},
     "output_type": "display_data"
    }
   ],
   "source": [
    "plt.hist(Player_Rolls_12_results, bins=8)\n",
    "plt.title(\"Score distribution for 12 roll Player (10000 Turns)\")\n",
    "plt.xlabel(\"Score\")\n",
    "plt.ylabel(\"Occurrences\")\n",
    "plt.text(100, 2000, \"Mean = {}\".format(player.average), fontsize=12,\n",
    "        verticalalignment='top',bbox={'facecolor':'blue', 'alpha':0.4, 'pad':10})\n",
    "\n",
    "plt.show()"
   ]
  },
  {
   "cell_type": "markdown",
   "metadata": {},
   "source": [
    "Very showing when having the computer hold until 12 rounds."
   ]
  },
  {
   "cell_type": "code",
   "execution_count": 337,
   "metadata": {
    "collapsed": false
   },
   "outputs": [
    {
     "data": {
      "text/plain": [
       "56.3888"
      ]
     },
     "execution_count": 337,
     "metadata": {},
     "output_type": "execute_result"
    }
   ],
   "source": [
    "class Player_Rolls_6:\n",
    "    \n",
    "    def __init__(self, samples=10000, rounds=7):\n",
    "        self.samples = samples\n",
    "        self.dice = Dice()\n",
    "        self.rounds = rounds\n",
    "        self.score_total = 0\n",
    "\n",
    "    def player_turn(self):\n",
    "        list_round_scores = []\n",
    "        self.list_samples = []\n",
    "        self.sample = 0\n",
    "        for x in range(self.samples):\n",
    "            round_count = 0\n",
    "            self.game_score = 0\n",
    "            self.round_score = 0\n",
    "            counter = 0\n",
    "            while round_count < self.rounds:\n",
    "                round_count += 1\n",
    "                counter = 0\n",
    "                self.roll_count = 0\n",
    "                while counter < 1:\n",
    "                    roll = self.dice.roll()\n",
    "                    self.roll_count += 1\n",
    "                    if roll == 1:\n",
    "                        self.round_score = 0\n",
    "                        list_round_scores.append(self.round_score)\n",
    "                        counter = 1 \n",
    "                    else:\n",
    "                        self.round_score += roll\n",
    "                        if self.roll_count < 6:\n",
    "                            continue\n",
    "                        else:\n",
    "                            self.game_score += self.round_score\n",
    "                            list_round_scores.append(self.round_score)\n",
    "                            self.round_score = 0\n",
    "                            counter = 1\n",
    "            self.list_samples.append(self.game_score)\n",
    "            self.average = sum(self.list_samples) / len(self.list_samples)\n",
    "        return self.list_samples\n",
    "\n",
    "player = Player_Rolls_6()\n",
    "Player_Rolls_6_results = player.player_turn()\n",
    "player.average"
   ]
  },
  {
   "cell_type": "code",
   "execution_count": 341,
   "metadata": {
    "collapsed": false
   },
   "outputs": [
    {
     "data": {
      "image/png": "[encoded data removed]",
      "text/plain": [
       "<matplotlib.figure.Figure at 0x10e7270b8>"
      ]
     },
     "metadata": {},
     "output_type": "display_data"
    }
   ],
   "source": [
    "plt.hist(Player_Rolls_6_results, bins=9)\n",
    "plt.title(\"Score distribution for 6 roll Player (10000 Turns)\")\n",
    "plt.xlabel(\"Score\")\n",
    "plt.ylabel(\"Occurrences\")\n",
    "plt.text(100, 2000, \"Mean = {}\".format(player.average), fontsize=12,\n",
    "        verticalalignment='top',bbox={'facecolor':'blue', 'alpha':0.4, 'pad':10})\n",
    "\n",
    "plt.show()"
   ]
  },
  {
   "cell_type": "markdown",
   "metadata": {},
   "source": [
    "Final conclusions - the best bot playing pig solitaire would pass after five or six turns, or if going by score, bank after 25 in a round. The highest average 7 round score we were able to tally was 56.34 by a player banking after 6 turns. "
   ]
  },
  {
   "cell_type": "code",
   "execution_count": null,
   "metadata": {
    "collapsed": true
   },
   "outputs": [],
   "source": []
  }
 ],
 "metadata": {
  "kernelspec": {
   "display_name": "Python 3",
   "language": "python",
   "name": "python3"
  },
  "language_info": {
   "codemirror_mode": {
    "name": "ipython",
    "version": 3
   },
   "file_extension": ".py",
   "mimetype": "text/x-python",
   "name": "python",
   "nbconvert_exporter": "python",
   "pygments_lexer": "ipython3",
   "version": "3.5.0"
  }
 },
 "nbformat": 4,
 "nbformat_minor": 0
}
