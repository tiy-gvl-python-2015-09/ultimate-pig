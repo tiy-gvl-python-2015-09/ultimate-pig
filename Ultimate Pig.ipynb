{
 "cells": [
  {
   "cell_type": "markdown",
   "metadata": {},
   "source": [
    "## The First Bot: 6-Bot\n",
    "This is my first AI, and the thinking is this: Every roll of the die carries the same risks, no matter how many times you have rolled so far this turn. So when the AI gets a good roll (i.e. a 6), it behooves it to bank that score, and not jeopardize it with another roll."
   ]
  },
  {
   "cell_type": "code",
   "execution_count": 445,
   "metadata": {
    "collapsed": false,
    "scrolled": false
   },
   "outputs": [
    {
     "name": "stdout",
     "output_type": "stream",
     "text": [
      "Bot mean: 45.4539 \n",
      "Bot median: 43.0\n"
     ]
    },
    {
     "data": {
      "image/png": "[encoded data removed]",
      "text/plain": [
       "<matplotlib.figure.Figure at 0x10806bda0>"
      ]
     },
     "metadata": {},
     "output_type": "display_data"
    }
   ],
   "source": [
    "import random\n",
    "import numpy as np\n",
    "import itertools\n",
    "import matplotlib.pyplot as plt\n",
    "%matplotlib inline\n",
    "\n",
    "\n",
    "class Game:\n",
    "    def __init__(self, limit, turn_score=0):\n",
    "        self.turn_score = turn_score\n",
    "        self.limit = limit\n",
    "        \n",
    "    def start_game(self):\n",
    "        self.total_score = 0\n",
    "        self.turn = 1\n",
    "        self.start_turn()\n",
    "        return self.total_score\n",
    "    \n",
    "    def start_turn(self):\n",
    "        self.turn_score = 0\n",
    "        roll = random.randint(1,6)\n",
    "        #print(\"First roll: {}\".format(roll))\n",
    "        if roll == 1:\n",
    "            self.end_turn()\n",
    "        elif roll in self.limit:\n",
    "            self.turn_score += roll\n",
    "            self.end_turn()\n",
    "        else:\n",
    "            self.turn_score += roll\n",
    "            self.roll_again()\n",
    "        \n",
    "    def roll_again(self):\n",
    "        reroll = random.randint(1,6)\n",
    "        #print(\"next roll: {} \\nturn score: {}\".format(reroll, self.turn_score))\n",
    "        if reroll == 1:\n",
    "            self.turn_score = 0\n",
    "            self.end_turn()\n",
    "        elif reroll in self.limit:\n",
    "            self.turn_score += reroll\n",
    "            self.end_turn()\n",
    "        else:\n",
    "            self.turn_score += reroll\n",
    "            self.roll_again()\n",
    "   \n",
    "    def end_turn(self):\n",
    "        if self.turn <= 7:\n",
    "            self.turn += 1\n",
    "            self.total_score += self.turn_score\n",
    "            #print(\"At the end of round {}: \\n{} points this round \\n{} points total\\n\".format(self.turn, self.turn_score, self.total_score))\n",
    "            self.start_turn()\n",
    "        elif self.turn > 7:\n",
    "            #print(\"Final score after 7 rounds: {}\".format(self.total_score))\n",
    "            #return Bot_Score.append(self.total_score)                      \n",
    "            return self.total_score\n",
    "        \n",
    "def run_tests(a, trials=10000):\n",
    "    final_scores = []\n",
    "    for _ in range(trials):\n",
    "        i = Game(a)\n",
    "        final_scores.append(i.start_game())\n",
    "    return final_scores\n",
    "\n",
    "limit = [6]\n",
    "a = run_tests(limit)\n",
    "print(\"Bot mean: {} \\nBot median: {}\".format(np.mean(a), np.median(a)))\n",
    "plt.hist(a, bins=20)\n",
    "plt.title(\"6-Bot scores\")\n",
    "plt.show()"
   ]
  },
  {
   "cell_type": "markdown",
   "metadata": {},
   "source": [
    "This histogram is not very helpful; an anomalous score clouds the results. Let's try this if for 10,000 runs, and discard the lowest and highest 1,000 scores:"
   ]
  },
  {
   "cell_type": "code",
   "execution_count": 446,
   "metadata": {
    "collapsed": false
   },
   "outputs": [
    {
     "name": "stdout",
     "output_type": "stream",
     "text": [
      "Bot mean: 44.123 \n",
      "Bot median: 43.0\n"
     ]
    },
    {
     "data": {
      "image/png": "[encoded data removed]",
      "text/plain": [
       "<matplotlib.figure.Figure at 0x1076b6630>"
      ]
     },
     "metadata": {},
     "output_type": "display_data"
    }
   ],
   "source": [
    "def run_tests(a, trials=10000):\n",
    "    low = int(trials * 0.1)\n",
    "    high = int(trials * 0.9)\n",
    "    final_scores = []\n",
    "    for _ in range(trials):\n",
    "        i = Game(a)\n",
    "        final_scores.append(i.start_game())\n",
    "    final_scores = sorted(final_scores)\n",
    "    return final_scores[low:high]\n",
    "\n",
    "limit = [6]\n",
    "x = run_tests(limit)\n",
    "print(\"Bot mean: {} \\nBot median: {}\".format(np.mean(x), np.median(x)))\n",
    "plt.hist(a, bins=20)\n",
    "plt.title(\"6-Bot scores \\n(outliers excluded)\")\n",
    "plt.show()"
   ]
  },
  {
   "cell_type": "markdown",
   "metadata": {},
   "source": [
    "That brings the mean down much closer to the median, which is good. If the bot scores 500 points on a lucky game, it will have almost certainly won. There isn't any bonus for running up the score."
   ]
  },
  {
   "cell_type": "markdown",
   "metadata": {},
   "source": [
    "## The Second Bot: 5-6-Bot\n",
    "This is the same as 6-Bot, but instead of banking it's points whenever a 6 is rolled, it will bank it's points whenever a 5 OR a 6 is rolled."
   ]
  },
  {
   "cell_type": "code",
   "execution_count": 447,
   "metadata": {
    "collapsed": false
   },
   "outputs": [
    {
     "name": "stdout",
     "output_type": "stream",
     "text": [
      "Bot mean: 39.381375 \n",
      "Bot median: 39.0\n"
     ]
    },
    {
     "data": {
      "image/png": "[encoded data removed]",
      "text/plain": [
       "<matplotlib.figure.Figure at 0x1079f4898>"
      ]
     },
     "metadata": {},
     "output_type": "display_data"
    }
   ],
   "source": [
    "limit = [5, 6]\n",
    "x = run_tests(limit)\n",
    "print(\"Bot mean: {} \\nBot median: {}\".format(np.mean(x), np.median(x)))\n",
    "plt.hist(a, bins=20)\n",
    "plt.title(\"5-6-Bot scores \\n(outliers excluded)\")\n",
    "plt.show()"
   ]
  },
  {
   "cell_type": "markdown",
   "metadata": {},
   "source": [
    "Banking on a 5 or 6 looks a bit too conservative. \n",
    "Let's extend it further..."
   ]
  },
  {
   "cell_type": "markdown",
   "metadata": {},
   "source": [
    "## 4-5-6-Bot"
   ]
  },
  {
   "cell_type": "code",
   "execution_count": 448,
   "metadata": {
    "collapsed": false
   },
   "outputs": [
    {
     "name": "stdout",
     "output_type": "stream",
     "text": [
      "Bot mean: 32.645125 \n",
      "Bot median: 33.0\n"
     ]
    },
    {
     "data": {
      "image/png": "[encoded data removed]",
      "text/plain": [
       "<matplotlib.figure.Figure at 0x108143ac8>"
      ]
     },
     "metadata": {},
     "output_type": "display_data"
    }
   ],
   "source": [
    "limit = [4, 5, 6]\n",
    "x = run_tests(limit)\n",
    "print(\"Bot mean: {} \\nBot median: {}\".format(np.mean(x), np.median(x)))\n",
    "plt.hist(a, bins=20)\n",
    "plt.title(\"4-5-6-Bot scores \\n(outliers excluded)\")\n",
    "plt.show()"
   ]
  },
  {
   "cell_type": "markdown",
   "metadata": {},
   "source": []
  },
  {
   "cell_type": "markdown",
   "metadata": {},
   "source": [
    "## 3-4-5-6-Bot"
   ]
  },
  {
   "cell_type": "code",
   "execution_count": 449,
   "metadata": {
    "collapsed": false,
    "scrolled": true
   },
   "outputs": [
    {
     "name": "stdout",
     "output_type": "stream",
     "text": [
      "Bot mean: 27.607125 \n",
      "Bot median: 28.0\n"
     ]
    },
    {
     "data": {
      "image/png": "[encoded data removed]",
      "text/plain": [
       "<matplotlib.figure.Figure at 0x1079ab550>"
      ]
     },
     "metadata": {},
     "output_type": "display_data"
    }
   ],
   "source": [
    "limit = [3, 4, 5, 6]\n",
    "x = run_tests(limit)\n",
    "print(\"Bot mean: {} \\nBot median: {}\".format(np.mean(x), np.median(x)))\n",
    "plt.hist(a, bins=20)\n",
    "plt.title(\"3-4-5-6-Bot scores \\n(outliers excluded)\")\n",
    "plt.show()"
   ]
  },
  {
   "cell_type": "markdown",
   "metadata": {},
   "source": [
    "## 2-3-4-5-6-Bot"
   ]
  },
  {
   "cell_type": "code",
   "execution_count": 450,
   "metadata": {
    "collapsed": false
   },
   "outputs": [
    {
     "name": "stdout",
     "output_type": "stream",
     "text": [
      "Bot mean: 23.342125 \n",
      "Bot median: 23.0\n"
     ]
    },
    {
     "data": {
      "image/png": "[encoded data removed]",
      "text/plain": [
       "<matplotlib.figure.Figure at 0x10768bb38>"
      ]
     },
     "metadata": {},
     "output_type": "display_data"
    }
   ],
   "source": [
    "limit = [2, 3, 4, 5, 6]\n",
    "x = run_tests(limit)\n",
    "print(\"Bot mean: {} \\nBot median: {}\".format(np.mean(x), np.median(x)))\n",
    "plt.hist(a, bins=20)\n",
    "plt.title(\"2-3-4-5-6-Bot scores \\n(outliers excluded)\")\n",
    "plt.show()"
   ]
  },
  {
   "cell_type": "markdown",
   "metadata": {},
   "source": [
    "2-3-4-5-6-Bot uses a strategy of \"only roll once per turn\", and its average final score is 20. This makes sense because the average roll on any turn is (0+2+3+4+5+6)/6 = 3.333.\n",
    "\n",
    "Multiplying by 7 rounds gives us 23.333. This shows that it is a reliable model. :-)"
   ]
  },
  {
   "cell_type": "markdown",
   "metadata": {},
   "source": [
    "## Alternative Strategy: \n",
    "## Bank when turn score reaches N\n",
    "\n",
    "For these bots, I set a target score per turn. Example: if the target score is 20, and the bot's score on the turn is 18, it will roll again. If it rolls a 5, it will bank those 23 points and end its turn.\n",
    "\n",
    "This requires slightly modifying the original Game class, which looked at "
   ]
  },
  {
   "cell_type": "code",
   "execution_count": 463,
   "metadata": {
    "collapsed": false
   },
   "outputs": [
    {
     "name": "stdout",
     "output_type": "stream",
     "text": [
      "[0, 0, 0, 105, 53, 0, 54, 52, 53, 52, 0, 0, 52, 50, 0, 50, 53, 54, 0, 51]\n",
      "Bot mean: 34.9542 \n",
      "Bot median: 50.0\n"
     ]
    },
    {
     "data": {
      "image/png": "[encoded data removed]",
      "text/plain": [
       "<matplotlib.figure.Figure at 0x108093ef0>"
      ]
     },
     "metadata": {},
     "output_type": "display_data"
    }
   ],
   "source": [
    "class GameTurnMax:\n",
    "    def __init__(self, max_score, turn_score=0):\n",
    "        self.turn_score = turn_score\n",
    "        self.max_score = max_score\n",
    "        \n",
    "    def start_game(self):\n",
    "        self.total_score = 0\n",
    "        self.turn = 1\n",
    "        self.roll_dice()\n",
    "        return self.total_score\n",
    "    \n",
    "    def roll_dice(self):\n",
    "        roll = random.randint(1,6)\n",
    "        if roll == 1:\n",
    "            self.turn_score = 0\n",
    "            self.end_turn()\n",
    "        else:\n",
    "            self.turn_score += roll\n",
    "            self.decide()\n",
    "        \n",
    "    def decide(self):\n",
    "        if self.turn_score < self.max_score:\n",
    "            self.roll_dice()\n",
    "        elif self.turn_score >= self.max_score:\n",
    "            self.end_turn()\n",
    "            \n",
    "    def end_turn(self):\n",
    "        if self.turn <= 7:\n",
    "            self.turn += 1\n",
    "            self.total_score += self.turn_score\n",
    "            self.turn_score = 0\n",
    "            self.roll_dice()\n",
    "        elif self.turn > 7:\n",
    "            #print(self.total_score)\n",
    "            return self.total_score\n",
    "        \n",
    "def run_max_tests(limit, trials=10000):\n",
    "    low = int(trials * 0.1)\n",
    "    high = int(trials * 0.9)\n",
    "    final_scores = []\n",
    "    for _ in range(trials):\n",
    "        i = GameTurnMax(limit)\n",
    "        final_scores.append(i.start_game())\n",
    "    return final_scores\n",
    "\n",
    "limit = 50\n",
    "x = run_max_tests(limit)\n",
    "print(run_max_tests(limit, trials=20))\n",
    "print(\"Bot mean: {} \\nBot median: {}\".format(np.mean(x), np.median(x)))\n",
    "plt.hist(a, bins=4)\n",
    "plt.title(\"Max Turn Score:{} \\n(outliers excluded)\".format(limit))\n",
    "plt.show()"
   ]
  },
  {
   "cell_type": "markdown",
   "metadata": {},
   "source": [
    "### Something's wrong...\n",
    "This histogram shows a majority of scores between 0 and 50. Presumably, they are all 0. (Scores between 1 and 49 should never happen). But the median is still 50.0.\n",
    "\n",
    "Is this just something about how the bins are alocated?"
   ]
  },
  {
   "cell_type": "code",
   "execution_count": 465,
   "metadata": {
    "collapsed": false
   },
   "outputs": [
    {
     "name": "stdout",
     "output_type": "stream",
     "text": [
      "[0, 100, 0, 0, 0, 0, 0, 0, 0, 0, 0, 0, 0, 0, 0, 0, 0, 0, 100, 0]\n",
      "Bot mean: 7.3673 \n",
      "Bot median: 0.0\n"
     ]
    },
    {
     "data": {
      "image/png": "[encoded data removed]",
      "text/plain": [
       "<matplotlib.figure.Figure at 0x107d93f60>"
      ]
     },
     "metadata": {},
     "output_type": "display_data"
    }
   ],
   "source": [
    "limit = 100\n",
    "x = run_max_tests(limit)\n",
    "print(run_max_tests(limit, trials=20))\n",
    "print(\"Bot mean: {} \\nBot median: {}\".format(np.mean(x), np.median(x)))\n",
    "plt.hist(a, bins=2)\n",
    "plt.title(\"Max Turn Score:{} \\n(outliers excluded)\".format(limit))\n",
    "plt.show()"
   ]
  },
  {
   "cell_type": "code",
   "execution_count": 466,
   "metadata": {
    "collapsed": false
   },
   "outputs": [
    {
     "name": "stdout",
     "output_type": "stream",
     "text": [
      "[58, 75, 33, 54, 51, 50, 36, 33, 44, 67, 53, 33, 55, 25, 23, 46, 36, 32, 44, 52]\n",
      "Bot mean: 47.9684 \n",
      "Bot median: 48.0\n"
     ]
    },
    {
     "data": {
      "image/png": "[encoded data removed]",
      "text/plain": [
       "<matplotlib.figure.Figure at 0x1080fbf60>"
      ]
     },
     "metadata": {},
     "output_type": "display_data"
    }
   ],
   "source": [
    "limit = 10\n",
    "x = run_max_tests(limit)\n",
    "print(run_max_tests(limit, trials=20))\n",
    "print(\"Bot mean: {} \\nBot median: {}\".format(np.mean(x), np.median(x)))\n",
    "plt.hist(a, bins=20)\n",
    "plt.title(\"Max Turn Score:{} \\n(outliers excluded)\".format(limit))\n",
    "plt.show()"
   ]
  },
  {
   "cell_type": "markdown",
   "metadata": {},
   "source": [
    "## Comparison of Target Turn Scores\n",
    "Setting the target turn score changes the distribution of final results scores. Let's try compare what the average result is for every possible target turn score."
   ]
  },
  {
   "cell_type": "code",
   "execution_count": 472,
   "metadata": {
    "collapsed": false
   },
   "outputs": [
    {
     "name": "stdout",
     "output_type": "stream",
     "text": [
      "[23.0, 24.0, 28.0, 31.0, 34.0, 39.0, 43.0, 44.0, 45.0, 48.0, 50.0, 52.0, 55.5, 51.0, 53.0, 55.0, 55.0, 58.0, 60.0, 62.0, 48.0, 49.0, 51.0, 52.0, 54.0, 55.0, 56.0, 58.0, 59.0, 61.0, 35.0, 36.0, 36.0, 37.0, 37.0, 38.0, 39.0, 40.0, 41.0, 41.0, 42.0, 43.0, 44.0, 45.0, 45.0, 46.0, 47.0, 48.0, 49.0, 50.0, 0.0, 0.0, 0.0, 0.0, 0.0, 0.0, 0.0, 0.0, 0.0]\n"
     ]
    },
    {
     "data": {
      "image/png": "[encoded data removed]",
      "text/plain": [
       "<matplotlib.figure.Figure at 0x106a2f240>"
      ]
     },
     "metadata": {},
     "output_type": "display_data"
    }
   ],
   "source": [
    "def run_tests_median(a, trials=1000):\n",
    "    final_scores = []\n",
    "    for _ in range(trials):\n",
    "        i = GameTurnMax(a)\n",
    "        final_scores.append(i.start_game())\n",
    "    return np.median(final_scores)\n",
    "\n",
    "def find_ideal_turn_score(max_hold):\n",
    "    ave_performances = []\n",
    "    for limit in range(1, max_hold):\n",
    "        z = np.median(run_tests_median(limit))\n",
    "        ave_performances.append(z)\n",
    "    return ave_performances\n",
    "\n",
    "\n",
    "print(find_ideal_turn_score(60))\n",
    "\n",
    "plt.bar(range(1, 60), find_ideal_turn_score(60))\n",
    "plt.title(\"Results by Target Turn Score\".format(limit))\n",
    "plt.xlabel(\"Bot's target turn score\")\n",
    "plt.ylabel(\"Bot's median game score\")\n",
    "plt.show()\n"
   ]
  },
  {
   "cell_type": "markdown",
   "metadata": {
    "collapsed": true
   },
   "source": [
    "This is very unexpected. I did not expect a completely normal distribution (e.g. setting the target turn score at 7 will usually require an entire additional roll than setting the target turn score at 6.) I cannot explain this distribution of scores, though.\n",
    "\n",
    "One possibility? Each \"sail\" (group of ascending results followed by an immediate plunge) takes the same number of rolls per turn, on average."
   ]
  },
  {
   "cell_type": "code",
   "execution_count": null,
   "metadata": {
    "collapsed": true
   },
   "outputs": [],
   "source": []
  }
 ],
 "metadata": {
  "kernelspec": {
   "display_name": "Python 3",
   "language": "python",
   "name": "python3"
  },
  "language_info": {
   "codemirror_mode": {
    "name": "ipython",
    "version": 3
   },
   "file_extension": ".py",
   "mimetype": "text/x-python",
   "name": "python",
   "nbconvert_exporter": "python",
   "pygments_lexer": "ipython3",
   "version": "3.5.0"
  }
 },
 "nbformat": 4,
 "nbformat_minor": 0
}
